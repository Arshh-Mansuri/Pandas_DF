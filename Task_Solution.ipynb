{
 "cells": [
  {
   "cell_type": "code",
   "execution_count": 48,
   "id": "de1a48db",
   "metadata": {},
   "outputs": [],
   "source": [
    "import pandas as pd\n",
    "df = pd.read_csv('data.csv')\n",
    "df['Transaction Date'] = pd.to_datetime(df['Transaction Date'], format='%d %b %Y')  \n",
    "df['Transaction Date'] = df['Transaction Date'].dt.strftime('%d/%m/%Y')\n",
    "df['Description']=df['Description'].str.replace(r'[^a-zA-Z1-9\\s]', '', regex=True)\n",
    "df['Amount'] = df['Amount'].str.replace(',', '')\n",
    "df['Balance'] = df['Balance'].str.replace(',', '')"
   ]
  },
  {
   "cell_type": "code",
   "execution_count": 49,
   "id": "be392345",
   "metadata": {},
   "outputs": [
    {
     "data": {
      "text/html": [
       "<div>\n",
       "<style scoped>\n",
       "    .dataframe tbody tr th:only-of-type {\n",
       "        vertical-align: middle;\n",
       "    }\n",
       "\n",
       "    .dataframe tbody tr th {\n",
       "        vertical-align: top;\n",
       "    }\n",
       "\n",
       "    .dataframe thead th {\n",
       "        text-align: right;\n",
       "    }\n",
       "</style>\n",
       "<table border=\"1\" class=\"dataframe\">\n",
       "  <thead>\n",
       "    <tr style=\"text-align: right;\">\n",
       "      <th></th>\n",
       "      <th>Transaction Date</th>\n",
       "      <th>Description</th>\n",
       "      <th>Amount</th>\n",
       "      <th>Balance</th>\n",
       "    </tr>\n",
       "  </thead>\n",
       "  <tbody>\n",
       "    <tr>\n",
       "      <th>0</th>\n",
       "      <td>01/11/2023</td>\n",
       "      <td>Salary</td>\n",
       "      <td>1500.0</td>\n",
       "      <td>1500.0</td>\n",
       "    </tr>\n",
       "    <tr>\n",
       "      <th>1</th>\n",
       "      <td>02/11/2023</td>\n",
       "      <td>Rent</td>\n",
       "      <td>-800.0</td>\n",
       "      <td>700.0</td>\n",
       "    </tr>\n",
       "    <tr>\n",
       "      <th>2</th>\n",
       "      <td>03/11/2023</td>\n",
       "      <td>Groceries</td>\n",
       "      <td>-200.0</td>\n",
       "      <td>500.0</td>\n",
       "    </tr>\n",
       "    <tr>\n",
       "      <th>3</th>\n",
       "      <td>04/11/2023</td>\n",
       "      <td>Utilities</td>\n",
       "      <td>-150.0</td>\n",
       "      <td>350.0</td>\n",
       "    </tr>\n",
       "    <tr>\n",
       "      <th>4</th>\n",
       "      <td>05/11/2023</td>\n",
       "      <td>ATM Withdrawal</td>\n",
       "      <td>-100.0</td>\n",
       "      <td>250.0</td>\n",
       "    </tr>\n",
       "  </tbody>\n",
       "</table>\n",
       "</div>"
      ],
      "text/plain": [
       "  Transaction Date     Description  Amount Balance\n",
       "0       01/11/2023          Salary  1500.0  1500.0\n",
       "1       02/11/2023            Rent  -800.0   700.0\n",
       "2       03/11/2023       Groceries  -200.0   500.0\n",
       "3       04/11/2023       Utilities  -150.0   350.0\n",
       "4       05/11/2023  ATM Withdrawal  -100.0   250.0"
      ]
     },
     "execution_count": 49,
     "metadata": {},
     "output_type": "execute_result"
    }
   ],
   "source": [
    "df.head()"
   ]
  },
  {
   "cell_type": "code",
   "execution_count": 51,
   "id": "ff390f3f",
   "metadata": {},
   "outputs": [],
   "source": [
    "df.to_csv('Task_Solution.csv', index=False)"
   ]
  },
  {
   "cell_type": "code",
   "execution_count": null,
   "id": "f3512446",
   "metadata": {},
   "outputs": [],
   "source": []
  }
 ],
 "metadata": {
  "kernelspec": {
   "display_name": "Python 3 (ipykernel)",
   "language": "python",
   "name": "python3"
  },
  "language_info": {
   "codemirror_mode": {
    "name": "ipython",
    "version": 3
   },
   "file_extension": ".py",
   "mimetype": "text/x-python",
   "name": "python",
   "nbconvert_exporter": "python",
   "pygments_lexer": "ipython3",
   "version": "3.8.16"
  }
 },
 "nbformat": 4,
 "nbformat_minor": 5
}
